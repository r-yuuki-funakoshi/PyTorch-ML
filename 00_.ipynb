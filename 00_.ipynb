{
 "cells": [
  {
   "cell_type": "markdown",
   "id": "79fdf898-e928-4b10-b17c-2233df478f43",
   "metadata": {},
   "source": [
    "## **Learning PyTorch**"
   ]
  },
  {
   "cell_type": "markdown",
   "id": "f7536243-a897-4bb4-a593-35d06b79d8cc",
   "metadata": {},
   "source": [
    "**Scaler Vector and Tensor**"
   ]
  },
  {
   "cell_type": "code",
   "execution_count": 2,
   "id": "5fdc0d87-7cc8-4702-bb03-02e3d167269e",
   "metadata": {
    "scrolled": true
   },
   "outputs": [
    {
     "name": "stdout",
     "output_type": "stream",
     "text": [
      "2.7.1+cpu\n"
     ]
    }
   ],
   "source": [
    "import torch\n",
    "import pandas as pd\n",
    "import numpy as np\n",
    "import matplotlib.pyplot as plt\n",
    "print(torch.__version__)"
   ]
  },
  {
   "cell_type": "markdown",
   "id": "77d6c655-c903-4186-ae61-2dc0ef8ae205",
   "metadata": {},
   "source": [
    "*Scalers*"
   ]
  },
  {
   "cell_type": "code",
   "execution_count": 5,
   "id": "25a94446-a79c-480b-9786-f67a01b95035",
   "metadata": {},
   "outputs": [
    {
     "data": {
      "text/plain": [
       "tensor(7)"
      ]
     },
     "execution_count": 5,
     "metadata": {},
     "output_type": "execute_result"
    }
   ],
   "source": [
    "#scaler\n",
    "scaler = torch.tensor(7)\n",
    "scaler"
   ]
  },
  {
   "cell_type": "code",
   "execution_count": 7,
   "id": "af638ac0-c816-454d-9658-a500bd4470c2",
   "metadata": {},
   "outputs": [
    {
     "data": {
      "text/plain": [
       "7"
      ]
     },
     "execution_count": 7,
     "metadata": {},
     "output_type": "execute_result"
    }
   ],
   "source": [
    "scaler.ndim"
   ]
  },
  {
   "cell_type": "code",
   "execution_count": 49,
   "id": "aabebaa3-e5a7-4e30-8b32-7cd5500ba9fa",
   "metadata": {},
   "outputs": [
    {
     "data": {
      "text/plain": [
       "7"
      ]
     },
     "execution_count": 49,
     "metadata": {},
     "output_type": "execute_result"
    }
   ],
   "source": [
    "scaler.item()"
   ]
  },
  {
   "cell_type": "markdown",
   "id": "85b65bf7-0c81-49e4-b464-36b98403744b",
   "metadata": {},
   "source": [
    "*Vectors*"
   ]
  },
  {
   "cell_type": "code",
   "execution_count": 8,
   "id": "830fabb5-9813-4487-ac3d-1a9366e14d19",
   "metadata": {},
   "outputs": [
    {
     "data": {
      "text/plain": [
       "tensor([7, 7])"
      ]
     },
     "execution_count": 8,
     "metadata": {},
     "output_type": "execute_result"
    }
   ],
   "source": [
    "#Vector\n",
    "vector = torch.tensor([7, 7])\n",
    "vector"
   ]
  },
  {
   "cell_type": "code",
   "execution_count": 9,
   "id": "d9b78d7f-244d-4723-942e-6936e563dba9",
   "metadata": {},
   "outputs": [
    {
     "data": {
      "text/plain": [
       "1"
      ]
     },
     "execution_count": 9,
     "metadata": {},
     "output_type": "execute_result"
    }
   ],
   "source": [
    "vector.ndim"
   ]
  },
  {
   "cell_type": "code",
   "execution_count": 10,
   "id": "c67cde89-8e47-4256-963c-0f3e1aa72499",
   "metadata": {},
   "outputs": [
    {
     "data": {
      "text/plain": [
       "torch.Size([2])"
      ]
     },
     "execution_count": 10,
     "metadata": {},
     "output_type": "execute_result"
    }
   ],
   "source": [
    "vector.shape"
   ]
  },
  {
   "cell_type": "markdown",
   "id": "fe1b7537-399d-4eaa-98a8-6ce7477e7c5f",
   "metadata": {},
   "source": [
    "*Tensors*"
   ]
  },
  {
   "cell_type": "code",
   "execution_count": 11,
   "id": "33a1f656-576b-4446-87f7-f7bb1bfedc5f",
   "metadata": {},
   "outputs": [
    {
     "data": {
      "text/plain": [
       "tensor([[7, 8],\n",
       "        [1, 2]])"
      ]
     },
     "execution_count": 11,
     "metadata": {},
     "output_type": "execute_result"
    }
   ],
   "source": [
    "#MATRIX\n",
    "MATRIX = torch.tensor([[7,8],\n",
    "                       [1,2]])\n",
    "MATRIX"
   ]
  },
  {
   "cell_type": "code",
   "execution_count": 13,
   "id": "827c5de0-a71b-4797-8675-179484de9c9d",
   "metadata": {},
   "outputs": [
    {
     "data": {
      "text/plain": [
       "2"
      ]
     },
     "execution_count": 13,
     "metadata": {},
     "output_type": "execute_result"
    }
   ],
   "source": [
    "MATRIX.ndim"
   ]
  },
  {
   "cell_type": "code",
   "execution_count": 14,
   "id": "aed8f52e-831c-453e-9d4c-2ea86b641559",
   "metadata": {},
   "outputs": [
    {
     "data": {
      "text/plain": [
       "tensor([1, 2])"
      ]
     },
     "execution_count": 14,
     "metadata": {},
     "output_type": "execute_result"
    }
   ],
   "source": [
    "MATRIX[1]\n"
   ]
  },
  {
   "cell_type": "code",
   "execution_count": 33,
   "id": "20ee93b9-96c2-4d2c-97ef-917726777060",
   "metadata": {},
   "outputs": [
    {
     "data": {
      "text/plain": [
       "tensor([[1, 2, 3],\n",
       "        [0, 2, 2],\n",
       "        [2, 2, 1]])"
      ]
     },
     "execution_count": 33,
     "metadata": {},
     "output_type": "execute_result"
    }
   ],
   "source": [
    "#TENSOR\n",
    "tensor = torch.tensor([[1,2,3],\n",
    "                       [0,2,2],\n",
    "                       [2,2,1]])\n",
    "tensor"
   ]
  },
  {
   "cell_type": "code",
   "execution_count": 35,
   "id": "f91e7420-774c-4af9-b3ad-08e545bfc4ae",
   "metadata": {},
   "outputs": [
    {
     "data": {
      "text/plain": [
       "2"
      ]
     },
     "execution_count": 35,
     "metadata": {},
     "output_type": "execute_result"
    }
   ],
   "source": [
    "tensor.ndim"
   ]
  },
  {
   "cell_type": "code",
   "execution_count": 38,
   "id": "857c5570-e5be-4578-8cb8-545798316399",
   "metadata": {},
   "outputs": [
    {
     "data": {
      "text/plain": [
       "tensor([1, 2, 3])"
      ]
     },
     "execution_count": 38,
     "metadata": {},
     "output_type": "execute_result"
    }
   ],
   "source": [
    "tensor[0]"
   ]
  },
  {
   "cell_type": "code",
   "execution_count": 37,
   "id": "81467fbf-f2b2-44b4-8179-173c926683cc",
   "metadata": {},
   "outputs": [
    {
     "data": {
      "text/plain": [
       "tensor([0, 2, 2])"
      ]
     },
     "execution_count": 37,
     "metadata": {},
     "output_type": "execute_result"
    }
   ],
   "source": [
    "tensor[1]"
   ]
  },
  {
   "cell_type": "code",
   "execution_count": 44,
   "id": "4a270ddf-8d16-4a05-8ebd-9eaa041ddb1a",
   "metadata": {},
   "outputs": [
    {
     "data": {
      "text/plain": [
       "torch.Size([3, 3])"
      ]
     },
     "execution_count": 44,
     "metadata": {},
     "output_type": "execute_result"
    }
   ],
   "source": [
    "tensor.shape"
   ]
  },
  {
   "cell_type": "code",
   "execution_count": 10,
   "id": "d64824a5-0829-4eaf-a15f-d386adef605c",
   "metadata": {},
   "outputs": [
    {
     "data": {
      "text/plain": [
       "tensor([[[1, 2, 3],\n",
       "         [0, 2, 2],\n",
       "         [2, 2, 1]]])"
      ]
     },
     "execution_count": 10,
     "metadata": {},
     "output_type": "execute_result"
    }
   ],
   "source": [
    "tensor2 = torch.tensor([[[1,2,3],\n",
    "                         [0,2,2],\n",
    "                         [2,2,1]]])\n",
    "tensor2"
   ]
  },
  {
   "cell_type": "code",
   "execution_count": 6,
   "id": "21654848-05ed-494b-8661-fd4bafd482c9",
   "metadata": {},
   "outputs": [
    {
     "data": {
      "text/plain": [
       "3"
      ]
     },
     "execution_count": 6,
     "metadata": {},
     "output_type": "execute_result"
    }
   ],
   "source": [
    "tensor2.ndim"
   ]
  },
  {
   "cell_type": "code",
   "execution_count": 7,
   "id": "bf6a2533-4361-4dc9-82f7-55604f32b831",
   "metadata": {},
   "outputs": [
    {
     "data": {
      "text/plain": [
       "torch.Size([1, 3, 3])"
      ]
     },
     "execution_count": 7,
     "metadata": {},
     "output_type": "execute_result"
    }
   ],
   "source": [
    "tensor2.shape"
   ]
  },
  {
   "cell_type": "code",
   "execution_count": 46,
   "id": "dc6772f7-b5c6-4505-ab70-0991cf8b9692",
   "metadata": {},
   "outputs": [
    {
     "data": {
      "text/plain": [
       "tensor([[1, 2, 3],\n",
       "        [0, 2, 2],\n",
       "        [2, 2, 1]])"
      ]
     },
     "execution_count": 46,
     "metadata": {},
     "output_type": "execute_result"
    }
   ],
   "source": [
    "tensor2[0]"
   ]
  },
  {
   "cell_type": "markdown",
   "id": "ddf7a333-e99d-48fc-a109-4d03b6b1efbf",
   "metadata": {},
   "source": [
    "# **Generating tensors**"
   ]
  },
  {
   "cell_type": "code",
   "execution_count": 29,
   "id": "9483fe5c-aab3-492d-bc49-adad4f1b9545",
   "metadata": {},
   "outputs": [
    {
     "name": "stdout",
     "output_type": "stream",
     "text": [
      "tensor([[[0.5264, 0.1557],\n",
      "         [0.9003, 0.7315],\n",
      "         [0.2184, 0.3087]],\n",
      "\n",
      "        [[0.6412, 0.4854],\n",
      "         [0.4994, 0.2307],\n",
      "         [0.4467, 0.3222]],\n",
      "\n",
      "        [[0.6528, 0.2824],\n",
      "         [0.5511, 0.8943],\n",
      "         [0.1262, 0.5909]]])\n"
     ]
    }
   ],
   "source": [
    "import torch\n",
    "TT = torch.rand([3,3,2], out=None, dtype=None, \n",
    "                layout=torch.strided, device=None, requires_grad=False)\n",
    "print(TT)"
   ]
  },
  {
   "cell_type": "code",
   "execution_count": 30,
   "id": "0dfc255c-48a2-4b17-8037-2d940fdaa349",
   "metadata": {},
   "outputs": [
    {
     "data": {
      "text/plain": [
       "3"
      ]
     },
     "execution_count": 30,
     "metadata": {},
     "output_type": "execute_result"
    }
   ],
   "source": [
    "TT.ndim"
   ]
  },
  {
   "cell_type": "code",
   "execution_count": 31,
   "id": "86a2e855-9062-45f4-939f-956bbbc5ad4b",
   "metadata": {},
   "outputs": [
    {
     "data": {
      "text/plain": [
       "torch.Size([3, 3, 2])"
      ]
     },
     "execution_count": 31,
     "metadata": {},
     "output_type": "execute_result"
    }
   ],
   "source": [
    "TT.shape"
   ]
  },
  {
   "cell_type": "code",
   "execution_count": 35,
   "id": "c5080d9f-09bb-4952-a5a7-d80d16df8466",
   "metadata": {},
   "outputs": [
    {
     "data": {
      "text/plain": [
       "torch.float32"
      ]
     },
     "execution_count": 35,
     "metadata": {},
     "output_type": "execute_result"
    }
   ],
   "source": [
    "TT.dtype"
   ]
  },
  {
   "cell_type": "code",
   "execution_count": 32,
   "id": "37ef6866-4735-4a75-924a-190663c28da9",
   "metadata": {},
   "outputs": [
    {
     "data": {
      "text/plain": [
       "tensor([[0.5264, 0.1557],\n",
       "        [0.9003, 0.7315],\n",
       "        [0.2184, 0.3087]])"
      ]
     },
     "execution_count": 32,
     "metadata": {},
     "output_type": "execute_result"
    }
   ],
   "source": [
    "TT[0]"
   ]
  },
  {
   "cell_type": "code",
   "execution_count": 33,
   "id": "c738871c-bcbf-4596-8b2d-594239e37a19",
   "metadata": {},
   "outputs": [
    {
     "data": {
      "text/plain": [
       "tensor([[0.6412, 0.4854],\n",
       "        [0.4994, 0.2307],\n",
       "        [0.4467, 0.3222]])"
      ]
     },
     "execution_count": 33,
     "metadata": {},
     "output_type": "execute_result"
    }
   ],
   "source": [
    "TT[1]"
   ]
  },
  {
   "cell_type": "code",
   "execution_count": 34,
   "id": "acf99bfb-00fa-4de9-b06b-109820377c4e",
   "metadata": {},
   "outputs": [
    {
     "data": {
      "text/plain": [
       "tensor([[0.6528, 0.2824],\n",
       "        [0.5511, 0.8943],\n",
       "        [0.1262, 0.5909]])"
      ]
     },
     "execution_count": 34,
     "metadata": {},
     "output_type": "execute_result"
    }
   ],
   "source": [
    "TT[2]"
   ]
  },
  {
   "cell_type": "code",
   "execution_count": 24,
   "id": "a6daf007-9144-40da-8c76-f8f812961f0b",
   "metadata": {},
   "outputs": [
    {
     "name": "stdout",
     "output_type": "stream",
     "text": [
      "torch.Size([8])\n",
      "torch.Size([2, 2, 2])\n",
      "tensor([[[0.1739, 0.0715],\n",
      "         [0.7655, 0.9047]],\n",
      "\n",
      "        [[0.9304, 0.7610],\n",
      "         [0.9177, 0.3957]]])\n"
     ]
    }
   ],
   "source": [
    "import torch\n",
    "x=torch.rand(8)\n",
    "print(x.size())\n",
    "x=x.view(2,2,2)\n",
    "print(x.size())\n",
    "print(x)"
   ]
  },
  {
   "cell_type": "code",
   "execution_count": 37,
   "id": "1cdcbfd0-aaad-4225-9384-f9aa046f4eb8",
   "metadata": {},
   "outputs": [
    {
     "name": "stdout",
     "output_type": "stream",
     "text": [
      "tensor([[[0.0728, 0.6309],\n",
      "         [0.8057, 0.6729],\n",
      "         [0.6885, 0.3975]],\n",
      "\n",
      "        [[0.1118, 0.5029],\n",
      "         [0.8721, 0.6802],\n",
      "         [0.6104, 0.8008]],\n",
      "\n",
      "        [[0.8877, 0.5874],\n",
      "         [0.8789, 0.0923],\n",
      "         [0.2808, 0.7202]]], dtype=torch.float16)\n"
     ]
    }
   ],
   "source": [
    "import torch\n",
    "TT = torch.rand([3,3,2], out=None, dtype=torch.float16, \n",
    "                layout=torch.strided, device=None, requires_grad=False)\n",
    "print(TT)"
   ]
  },
  {
   "cell_type": "code",
   "execution_count": 38,
   "id": "64bcbcde-faaa-4ff7-8d1f-5d59730c466d",
   "metadata": {},
   "outputs": [
    {
     "data": {
      "text/plain": [
       "torch.float16"
      ]
     },
     "execution_count": 38,
     "metadata": {},
     "output_type": "execute_result"
    }
   ],
   "source": [
    "TT.dtype"
   ]
  },
  {
   "cell_type": "code",
   "execution_count": null,
   "id": "dea6c426-494a-442d-a754-ecded73056dc",
   "metadata": {},
   "outputs": [],
   "source": []
  }
 ],
 "metadata": {
  "kernelspec": {
   "display_name": "Python 3 (ipykernel)",
   "language": "python",
   "name": "python3"
  },
  "language_info": {
   "codemirror_mode": {
    "name": "ipython",
    "version": 3
   },
   "file_extension": ".py",
   "mimetype": "text/x-python",
   "name": "python",
   "nbconvert_exporter": "python",
   "pygments_lexer": "ipython3",
   "version": "3.13.5"
  }
 },
 "nbformat": 4,
 "nbformat_minor": 5
}
